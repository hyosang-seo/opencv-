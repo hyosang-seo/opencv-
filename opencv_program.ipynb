{
  "nbformat": 4,
  "nbformat_minor": 0,
  "metadata": {
    "colab": {
      "name": "opencv_program",
      "provenance": [],
      "collapsed_sections": [],
      "authorship_tag": "ABX9TyNyHyzVkuzRuwPHNbt3vCN7",
      "include_colab_link": true
    },
    "kernelspec": {
      "name": "python3",
      "display_name": "Python 3"
    }
  },
  "cells": [
    {
      "cell_type": "markdown",
      "metadata": {
        "id": "view-in-github",
        "colab_type": "text"
      },
      "source": [
        "<a href=\"https://colab.research.google.com/github/hyosang-seo/opencv-/blob/master/opencv_program.ipynb\" target=\"_parent\"><img src=\"https://colab.research.google.com/assets/colab-badge.svg\" alt=\"Open In Colab\"/></a>"
      ]
    },
    {
      "cell_type": "code",
      "metadata": {
        "id": "OLGWOHLD9Vqa",
        "colab_type": "code",
        "colab": {
          "base_uri": "https://localhost:8080/",
          "height": 53
        },
        "outputId": "0c6be4a0-d0d9-4f3e-ea75-7be4fc6129f5"
      },
      "source": [
        "!git clone https://github.com/hyosang-seo/opencv-.git\n",
        "\n",
        "\n",
        "#동영상 인식기능\n",
        "\n",
        "#딥러닝\n",
        "\n",
        "#인식 후 출력\n"
      ],
      "execution_count": 2,
      "outputs": [
        {
          "output_type": "stream",
          "text": [
            "Cloning into 'opencv-'...\n",
            "warning: You appear to have cloned an empty repository.\n"
          ],
          "name": "stdout"
        }
      ]
    }
  ]
}